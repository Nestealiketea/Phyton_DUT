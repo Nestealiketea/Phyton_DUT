{
 "nbformat": 4,
 "nbformat_minor": 0,
 "metadata": {
  "colab": {
   "provenance": []
  },
  "kernelspec": {
   "name": "python3",
   "display_name": "Python 3"
  },
  "language_info": {
   "name": "python"
  }
 },
 "cells": [
  {
   "cell_type": "markdown",
   "source": [
    "# I. Рядки (String)."
   ],
   "metadata": {
    "id": "EVJ7AflwxrZi"
   }
  },
  {
   "cell_type": "markdown",
   "source": [
    "1. Створити пустий рядок двома різними способами."
   ],
   "metadata": {
    "id": "_s5ECzz9zE61"
   }
  },
  {
   "cell_type": "code",
   "execution_count": null,
   "metadata": {
    "id": "HsDOUUMWxo6D",
    "colab": {
     "base_uri": "https://localhost:8080/",
     "height": 36
    },
    "outputId": "5ef4a747-f2bf-4c41-d666-44e8eb907931",
    "executionInfo": {
     "status": "ok",
     "timestamp": 1701967896617,
     "user_tz": -120,
     "elapsed": 9,
     "user": {
      "displayName": "Полина Курчинская",
      "userId": "05584249454728601961"
     }
    },
    "is_executing": true
   },
   "outputs": [],
   "source": [
    "empty_str = ''\n",
    "empty_str"
   ]
  },
  {
   "cell_type": "markdown",
   "source": [
    "2. Створити рядок з апострофом."
   ],
   "metadata": {
    "id": "4Bdn9J3MzLf_"
   }
  },
  {
   "cell_type": "code",
   "source": [
    "my_string = \"Розв'язання задач достатньо складне.\"\n",
    "print(my_string)"
   ],
   "metadata": {
    "id": "OjyFU0iKzPc2",
    "colab": {
     "base_uri": "https://localhost:8080/"
    },
    "outputId": "48a61123-5d6b-4b18-879c-8f093666c88f",
    "executionInfo": {
     "status": "ok",
     "timestamp": 1701967896616,
     "user_tz": -120,
     "elapsed": 11,
     "user": {
      "displayName": "Полина Курчинская",
      "userId": "05584249454728601961"
     }
    }
   },
   "execution_count": 1,
   "outputs": [
    {
     "output_type": "stream",
     "name": "stdout",
     "text": [
      "Розв'язання задач достатньо складне.\n"
     ]
    }
   ]
  },
  {
   "cell_type": "markdown",
   "source": [
    "3. Створити рядок з символом переходу на новий рядок та роздрукувати його в консоль."
   ],
   "metadata": {
    "id": "qj7LjXFazbx1"
   }
  },
  {
   "cell_type": "code",
   "source": [
    "my_string = \"Поставлені задачі зацікавили мене. \\nТому я буду їх вирішувати із радістю.\"\n",
    "print(my_string)"
   ],
   "metadata": {
    "id": "K9J-tLXczmyo",
    "colab": {
     "base_uri": "https://localhost:8080/"
    },
    "outputId": "fdadde1b-2dd2-41ff-d83d-bb1ff001f77d",
    "executionInfo": {
     "status": "ok",
     "timestamp": 1701967939221,
     "user_tz": -120,
     "elapsed": 339,
     "user": {
      "displayName": "Полина Курчинская",
      "userId": "05584249454728601961"
     }
    }
   },
   "execution_count": 3,
   "outputs": [
    {
     "output_type": "stream",
     "name": "stdout",
     "text": [
      "Поставлені задачі зацікавили мене. \n",
      "Тому я буду їх вирішувати із радістю.\n"
     ]
    }
   ]
  },
  {
   "cell_type": "markdown",
   "source": [
    "4. Зробити рядок з завдання №3 \"сирим\"(raw), вивести в консоль та порівняти з результатом в попередному завданні."
   ],
   "metadata": {
    "id": "XEYGh-BGzzfD"
   }
  },
  {
   "cell_type": "code",
   "source": [
    "my_string = r\"Поставлені задачі зацікавили мене. \\nТому я буду їх вирішувати із радістю.\"\n",
    "print(my_string)"
   ],
   "metadata": {
    "id": "0Mb7qYqgzntd",
    "colab": {
     "base_uri": "https://localhost:8080/"
    },
    "outputId": "8c3d6f25-ee9c-4edf-e5a0-9dfe01797b94",
    "executionInfo": {
     "status": "ok",
     "timestamp": 1701967974638,
     "user_tz": -120,
     "elapsed": 347,
     "user": {
      "displayName": "Полина Курчинская",
      "userId": "05584249454728601961"
     }
    }
   },
   "execution_count": 4,
   "outputs": [
    {
     "output_type": "stream",
     "name": "stdout",
     "text": [
      "Поставлені задачі зацікавили мене. \\nТому я буду їх вирішувати із радістю.\n"
     ]
    }
   ]
  },
  {
   "cell_type": "markdown",
   "source": [
    "*Пояснення:* У цьому коді 'r' був використаний  перед рядком, щоб створити сирий рядок my_string. Після виконання коду, \\n залишається як літерали в рядку, і не стає символом переходу на новий рядок."
   ],
   "metadata": {
    "id": "xLM76Cnfz3T_"
   }
  },
  {
   "cell_type": "markdown",
   "source": [
    "5. Створити змінну, що буде посилатися на Ваше прізвище латинкою. Створити форматований рядок, який буде мати вигляд \"My surname is ______\", де на місці нижніх підкреслень буде Ваше прізвище зі змінної."
   ],
   "metadata": {
    "id": "bg_d8wM4z8dS"
   }
  },
  {
   "cell_type": "code",
   "source": [
    "my_surname = 'Safronov'\n",
    "f_string = f\"My surname is {my_surname}\"\n",
    "print(f_string)"
   ],
   "metadata": {
    "id": "Cr847KKpz7zF",
    "colab": {
     "base_uri": "https://localhost:8080/"
    },
    "outputId": "c7a24388-3d3c-4ada-9a99-92a88bb7acd4",
    "executionInfo": {
     "status": "ok",
     "timestamp": 1701967991396,
     "user_tz": -120,
     "elapsed": 347,
     "user": {
      "displayName": "Полина Курчинская",
      "userId": "05584249454728601961"
     }
    },
    "is_executing": true
   },
   "execution_count": null,
   "outputs": []
  },
  {
   "cell_type": "markdown",
   "source": [
    "6. Маючи рядок \"My dog is crazy.\" перетворити його на список [\"my\", \"dog\", \"is\", \"crazy\"]"
   ],
   "metadata": {
    "id": "1Nc6RqvQ0hxU"
   }
  },
  {
   "cell_type": "code",
   "source": [
    "string = \"My dog is crazy\"\n",
    "alpha_list = string.split()\n",
    "print(alpha_list)"
   ],
   "metadata": {
    "id": "dGU4MImR063l",
    "colab": {
     "base_uri": "https://localhost:8080/"
    },
    "outputId": "2946d75a-60e9-4ccd-d393-d303b9e9f6b9",
    "executionInfo": {
     "status": "ok",
     "timestamp": 1701967999380,
     "user_tz": -120,
     "elapsed": 394,
     "user": {
      "displayName": "Полина Курчинская",
      "userId": "05584249454728601961"
     }
    }
   },
   "execution_count": 6,
   "outputs": [
    {
     "output_type": "stream",
     "name": "stdout",
     "text": [
      "['My', 'dog', 'is', 'crazy']\n"
     ]
    }
   ]
  },
  {
   "cell_type": "markdown",
   "source": [
    "# II. Множини (Set)."
   ],
   "metadata": {
    "id": "rW_I9dt3x6cW"
   }
  },
  {
   "cell_type": "markdown",
   "source": [
    "**7**. Створити множину без елементів. Після цого за допомогою методу додайте кілька різних елементів до множини. Чи множини є змінним типом даних?"
   ],
   "metadata": {
    "id": "zNjRLHLw1Bgg"
   }
  },
  {
   "cell_type": "code",
   "source": [
    "empty_set = set()\n",
    "empty_set.add(0)\n",
    "empty_set.add(11)\n",
    "print(empty_set)"
   ],
   "metadata": {
    "id": "CB72VZWZ1A7c",
    "colab": {
     "base_uri": "https://localhost:8080/"
    },
    "outputId": "3f07808a-f9eb-4fa2-e79e-1dfd2a65583f",
    "executionInfo": {
     "status": "ok",
     "timestamp": 1701968003235,
     "user_tz": -120,
     "elapsed": 524,
     "user": {
      "displayName": "Полина Курчинская",
      "userId": "05584249454728601961"
     }
    }
   },
   "execution_count": 7,
   "outputs": [
    {
     "output_type": "stream",
     "name": "stdout",
     "text": [
      "{0, 11}\n"
     ]
    }
   ]
  },
  {
   "cell_type": "markdown",
   "source": [
    "*Пояснення:* Множини є змінним типом даних. їх можна змінювати, додавати елементи, видаляти їх і так далі."
   ],
   "metadata": {
    "id": "tqxtcfgK4Wkx"
   }
  },
  {
   "cell_type": "markdown",
   "source": [
    "8. Створити множину, маючи список my_list = [1, 1, 2, 67, 67, 8, 9]. Пояснити, чому \"зникли\" деякі елементи."
   ],
   "metadata": {
    "id": "gHpT0Zw_1HEF"
   }
  },
  {
   "cell_type": "code",
   "source": [
    "my_list = set([1, 1, 2, 67, 67, 8, 9])\n",
    "my_set = set(my_list)\n",
    "my_unique_list = list(my_set)\n",
    "my_unique_list"
   ],
   "metadata": {
    "id": "U5YnFsPp1OCU",
    "colab": {
     "base_uri": "https://localhost:8080/"
    },
    "outputId": "5d82dba0-1f93-46dd-8c11-d92653cbc158",
    "executionInfo": {
     "status": "ok",
     "timestamp": 1701968006167,
     "user_tz": -120,
     "elapsed": 4,
     "user": {
      "displayName": "Полина Курчинская",
      "userId": "05584249454728601961"
     }
    }
   },
   "execution_count": 8,
   "outputs": [
    {
     "output_type": "execute_result",
     "data": {
      "text/plain": [
       "[1, 2, 67, 8, 9]"
      ]
     },
     "metadata": {},
     "execution_count": 8
    }
   ]
  },
  {
   "cell_type": "markdown",
   "source": [
    "*Пояснення:* Множин 'set' має особливість, що воно не може містити дублюючіся значення. При створені множини зі списку, у якому є дублюючіся елементи, зберігаються лише унікальні значення, а дублікати відкидаються."
   ],
   "metadata": {
    "id": "pHGtJB_zWcYP"
   }
  },
  {
   "cell_type": "markdown",
   "source": [
    "9. Створіть дві множини. Продемонстуйте над ними операції: обʼєднання, різниці, пересічі та симетричної різниці. Використовуйте методи, що не змінюють множини, а створюють нові."
   ],
   "metadata": {
    "id": "SRMkGizS1UwY"
   }
  },
  {
   "cell_type": "code",
   "source": [
    "a = {1, 2, 3, 4}\n",
    "b = {3, 4, 5, 6}\n",
    "a | b # обʼєднання"
   ],
   "metadata": {
    "id": "pj5ta1CS2LAa",
    "colab": {
     "base_uri": "https://localhost:8080/"
    },
    "outputId": "2f8cc16e-431e-462f-b0e2-0a788ca4ae0b"
   },
   "execution_count": null,
   "outputs": [
    {
     "output_type": "execute_result",
     "data": {
      "text/plain": [
       "{1, 2, 3, 4, 5, 6}"
      ]
     },
     "metadata": {},
     "execution_count": 85
    }
   ]
  },
  {
   "cell_type": "code",
   "source": [
    "a & b # пересічі"
   ],
   "metadata": {
    "colab": {
     "base_uri": "https://localhost:8080/"
    },
    "id": "yayVxcpyaHav",
    "outputId": "d4ac6509-0734-4225-cf47-00a2432fe142"
   },
   "execution_count": null,
   "outputs": [
    {
     "output_type": "execute_result",
     "data": {
      "text/plain": [
       "{3, 4}"
      ]
     },
     "metadata": {},
     "execution_count": 103
    }
   ]
  },
  {
   "cell_type": "code",
   "source": [
    "a - b # різниці\n"
   ],
   "metadata": {
    "colab": {
     "base_uri": "https://localhost:8080/"
    },
    "id": "orqKAiYxaJ0x",
    "outputId": "514daaa9-fd29-4510-c0c2-cfb030933a01"
   },
   "execution_count": null,
   "outputs": [
    {
     "output_type": "execute_result",
     "data": {
      "text/plain": [
       "{1, 2}"
      ]
     },
     "metadata": {},
     "execution_count": 104
    }
   ]
  },
  {
   "cell_type": "code",
   "source": [
    "b - a # різниці"
   ],
   "metadata": {
    "colab": {
     "base_uri": "https://localhost:8080/"
    },
    "id": "xO2O8Xs_ayXQ",
    "outputId": "2ca2a03f-1361-4e03-cb10-dbda58f488db"
   },
   "execution_count": null,
   "outputs": [
    {
     "output_type": "execute_result",
     "data": {
      "text/plain": [
       "{5, 6}"
      ]
     },
     "metadata": {},
     "execution_count": 105
    }
   ]
  },
  {
   "cell_type": "code",
   "source": [
    "a ^ b # симетричної різниці"
   ],
   "metadata": {
    "colab": {
     "base_uri": "https://localhost:8080/"
    },
    "id": "03IUOXqwaLKs",
    "outputId": "fb00cc4e-9484-451c-d0a5-7477cf7b77e4"
   },
   "execution_count": null,
   "outputs": [
    {
     "output_type": "execute_result",
     "data": {
      "text/plain": [
       "{1, 2, 5, 6}"
      ]
     },
     "metadata": {},
     "execution_count": 106
    }
   ]
  },
  {
   "cell_type": "markdown",
   "source": [
    "10. Створіть множину з пʼяти елементів. За допомогою спеціального методу, вилучіть три елементи один за одним з множини. Чи може гарантуватися порядок елементів у множинах?"
   ],
   "metadata": {
    "id": "ECo4rGAW2e4S"
   }
  },
  {
   "cell_type": "code",
   "source": [
    "my_set = {1, 2, 3, 4, 5}\n",
    "my_set.remove(1)\n",
    "my_set.remove(3)\n",
    "my_set.remove(4)\n",
    "print(my_set)"
   ],
   "metadata": {
    "id": "tCoJigA-4Ryd",
    "colab": {
     "base_uri": "https://localhost:8080/"
    },
    "outputId": "69f5d1af-e5c0-4a1f-b3be-3c5bc8315079"
   },
   "execution_count": null,
   "outputs": [
    {
     "output_type": "stream",
     "name": "stdout",
     "text": [
      "{2, 5}\n"
     ]
    }
   ]
  },
  {
   "cell_type": "markdown",
   "source": [
    "*Пояснення:* Множини є неупорядкованими, тобто порядок елементів у множині не гарантується і може змінюватися."
   ],
   "metadata": {
    "id": "t7f5oKmP2qum"
   }
  },
  {
   "cell_type": "markdown",
   "source": [
    "# III. Словники (Dictionary)."
   ],
   "metadata": {
    "id": "kWc8gkzTx7Ea"
   }
  },
  {
   "cell_type": "markdown",
   "source": [
    "11. Створіть пустий словник двома способами."
   ],
   "metadata": {
    "id": "FHIRdwck2uji"
   }
  },
  {
   "cell_type": "code",
   "source": [
    "empty_dict = dict()"
   ],
   "metadata": {
    "id": "sF2WCzwJ2yDq"
   },
   "execution_count": null,
   "outputs": []
  },
  {
   "cell_type": "code",
   "source": [
    "empty_dict2 = {}"
   ],
   "metadata": {
    "id": "-uRTk6c_dnZ4"
   },
   "execution_count": null,
   "outputs": []
  },
  {
   "cell_type": "markdown",
   "source": [
    "12. До одного зі словників вище додайте чотири пари елементів такі, щоб їхні ключі були різних типів."
   ],
   "metadata": {
    "id": "i5FLwj-B2ybQ"
   }
  },
  {
   "cell_type": "code",
   "source": [
    "dict = {1: 'a',\n",
    "        2: 'b',\n",
    "        'c': True,\n",
    "        (0,3): [2, 3, 4],\n",
    "        '78': 67,\n",
    "        ('apple'): 'Fruits'}\n",
    "dict"
   ],
   "metadata": {
    "id": "lqunD0EZ2_Vg",
    "colab": {
     "base_uri": "https://localhost:8080/"
    },
    "outputId": "15d1ec1a-def2-4848-8625-99ebae7d98fe"
   },
   "execution_count": null,
   "outputs": [
    {
     "output_type": "execute_result",
     "data": {
      "text/plain": [
       "{1: 'a', 2: 'b', 'c': True, (0, 3): [2, 3, 4], '78': 67, 'apple': 'Fruits'}"
      ]
     },
     "metadata": {},
     "execution_count": 132
    }
   ]
  },
  {
   "cell_type": "markdown",
   "source": [
    "*чи може список бути ключем? а значенням? чому?\n",
    ">*Пояснення:*  \n",
    "* Список не може бути ключем в словнику, оскільки список є змінюваним об'єктом.\n",
    "* Значення в словнику може бути будь-яким об'єктом, включаючи інші списки.\n",
    "\n",
    "\n"
   ],
   "metadata": {
    "id": "XOD2Aaj13Bqx"
   }
  },
  {
   "cell_type": "markdown",
   "source": [
    "13. Використовуючи той самий словник, отримайте по ключу будь-яке значення з наявних. Тепер видаліть цю пару ключ-значення. Спробуйте знову отримати значення по цьому ж ключу. Використовуючи спеціальний метод, виправте помилку."
   ],
   "metadata": {
    "id": "9Tjhmuf73KE6"
   }
  },
  {
   "cell_type": "code",
   "source": [],
   "metadata": {
    "id": "cNMenuGQ3JMa"
   },
   "execution_count": null,
   "outputs": []
  },
  {
   "cell_type": "markdown",
   "source": [
    "# IV. Оператори порівняння та логічні оператори. Умови."
   ],
   "metadata": {
    "id": "SLtQabwUx7Xc"
   }
  },
  {
   "cell_type": "markdown",
   "source": [
    "14. Створіть цілочисленну змінну зі своїм щасливим або улюбленим числом. Напишіть код, який би автоматизовував наступну задачу.\n",
    "\n",
    "Якщо число парне, помножте його на 2 та виведіть результат на екран.\n",
    "\n",
    "Але якщо число непарне, помножте його на 3 та додайте 1 і виведіть на екран.\n"
   ],
   "metadata": {
    "id": "SrehzC-n3-ln"
   }
  },
  {
   "cell_type": "code",
   "source": [],
   "metadata": {
    "id": "g0cchKGl3-Gq"
   },
   "execution_count": null,
   "outputs": []
  },
  {
   "cell_type": "markdown",
   "source": [
    "15. Створіть рядок зі своїм імʼям латинкою. Напишіть код, який би автоматизовував наступну задачу.\n",
    "\n",
    "Якщо в імені є літера \"а\"\n",
    " або \"i\", Виведіть на екран повідомлення \"A or I is in the name\".\n",
    "\n",
    "\n",
    "\n",
    "Якщо в імені є літери \"o\" та \"n\", Виведіть на екран повідомлення \"O and N is in the name\".\n",
    "\n",
    "Також якщо в імені немає літери \"о\", але є \"n\", Виведіть на екран повідомлення \"Only N is in the name\".\n",
    "\n",
    "В решті випадків виведіть на екран повідомлення \"There is no N in the name, but there might be O\".\n",
    "\n",
    "Зверніть увагу, що, наприклад, для імені \"Antonina\" буде виведено два повідомлення."
   ],
   "metadata": {
    "id": "PRXLVdU26E5Z"
   }
  },
  {
   "cell_type": "code",
   "source": [],
   "metadata": {
    "id": "bQlf4ZUh6Pdz"
   },
   "execution_count": null,
   "outputs": []
  },
  {
   "cell_type": "markdown",
   "source": [
    "# Вітаю! Ви велика(ий) молодець, що впоралась(вся). Похваліть себе та побалуйте чимось приємним. Я Вами пишаюся."
   ],
   "metadata": {
    "id": "xOZP0hkx6cCr"
   }
  }
 ]
}
